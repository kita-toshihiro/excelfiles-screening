{
 "cells": [
  {
   "cell_type": "markdown",
   "id": "MFE23JbnRXg2",
   "metadata": {
    "id": "MFE23JbnRXg2",
    "jupyter": {
     "source_hidden": true
    },
    "tags": []
   },
   "source": [
    "教師が作った模範解答としての Excelファイルと、各学生が解答として提出したExcelファイルとを、セルを一つ一つ比較して、差がどれくらいあるかをチェックするスクリプトです。"
   ]
  },
  {
   "cell_type": "markdown",
   "id": "wF9fsx0qRR9d",
   "metadata": {
    "id": "wF9fsx0qRR9d"
   },
   "source": [
    "This is a script that compares the Excel file as a model answer created by the teacher and the Excel file submitted as an answer by each student, cell by cell, and checks how much difference there is."
   ]
  },
  {
   "cell_type": "code",
   "execution_count": 3,
   "id": "9c699648-17b4-4624-82b4-16a39b563c7a",
   "metadata": {
    "colab": {
     "base_uri": "https://localhost:8080/"
    },
    "collapsed": true,
    "id": "9c699648-17b4-4624-82b4-16a39b563c7a",
    "jupyter": {
     "outputs_hidden": true
    },
    "outputId": "aabb312a-14e2-4ff4-d4bb-1fdbae4269f9",
    "tags": []
   },
   "outputs": [
    {
     "name": "stdout",
     "output_type": "stream",
     "text": [
      "answer file : ediff-ans-files/joho_2_02_2_kaitou.xlsx\n",
      "now: ediff-st-files/joho_2_02_2_gakusei_sample01.xlsx\n",
      " rownum_sum:51848\n",
      "ediff-st-files/joho_2_02_2_gakusei_sample01.xlsx  diff num = 0  add_num = 139\n",
      "now: ediff-st-files/joho_2_02_2_gakusei_sample04.xlsx\n",
      " rownum_sum:55609\n",
      "ediff-st-files/joho_2_02_2_gakusei_sample04.xlsx  diff num = 658  add_num = 0\n",
      "now: ediff-st-files/joho_2_02_2_gakusei_sample05.xlsx\n",
      " rownum_sum:55705\n",
      "ediff-st-files/joho_2_02_2_gakusei_sample05.xlsx  diff num = 0  add_num = 0\n",
      "now: ediff-st-files/joho_2_02_2_gakusei_sample06.xlsx\n",
      " rownum_sum:51848\n",
      "ediff-st-files/joho_2_02_2_gakusei_sample06.xlsx  diff num = 470  add_num = 0\n",
      "now: ediff-st-files/joho_2_02_2_gakusei_sample07.xlsx\n",
      " rownum_sum:54537\n",
      "ediff-st-files/joho_2_02_2_gakusei_sample07.xlsx  diff num = 0  add_num = 0\n",
      "now: ediff-st-files/joho_2_02_2_gakusei_sample08.xlsx\n",
      " rownum_sum:53760\n",
      "ediff-st-files/joho_2_02_2_gakusei_sample08.xlsx  diff num = 611  add_num = 0\n",
      "now: ediff-st-files/joho_2_02_2_gakusei_sample09.xlsx\n",
      " rownum_sum:81446\n",
      "ediff-st-files/joho_2_02_2_gakusei_sample09.xlsx  diff num = 842  add_num = 1200\n",
      "now: ediff-st-files/joho_2_02_2_gakusei_sample10.xlsx\n",
      " rownum_sum:80164\n",
      "ediff-st-files/joho_2_02_2_gakusei_sample10.xlsx  diff num = 6  add_num = 1\n",
      "now: ediff-st-files/joho_2_02_2_gakusei_sample12.xlsx\n",
      " rownum_sum:51848\n",
      "ediff-st-files/joho_2_02_2_gakusei_sample12.xlsx  diff num = 0  add_num = 0\n",
      "now: ediff-st-files/joho_2_02_2_gakusei_sample13.xlsx\n",
      " rownum_sum:51848\n",
      "ediff-st-files/joho_2_02_2_gakusei_sample13.xlsx  diff num = 2  add_num = 0\n",
      "now: ediff-st-files/joho_2_02_2_gakusei_sample14.xlsx\n",
      " rownum_sum:51848\n",
      "ediff-st-files/joho_2_02_2_gakusei_sample14.xlsx  diff num = 592  add_num = 0\n",
      "now: ediff-st-files/joho_2_02_2_gakusei_sample15.xlsx\n",
      " rownum_sum:51896\n",
      "ediff-st-files/joho_2_02_2_gakusei_sample15.xlsx  diff num = 0  add_num = 0\n",
      "now: ediff-st-files/joho_2_02_2_gakusei_sample16.xlsx\n",
      " rownum_sum:79582\n",
      "ediff-st-files/joho_2_02_2_gakusei_sample16.xlsx  diff num = 0  add_num = 595\n",
      "now: ediff-st-files/joho_2_02_2_gakusei_sample17.xlsx\n",
      " rownum_sum:78630\n",
      "ediff-st-files/joho_2_02_2_gakusei_sample17.xlsx  diff num = 30  add_num = 0\n",
      "now: ediff-st-files/joho_2_02_2_gakusei_sample18.xlsx\n",
      " rownum_sum:53759\n",
      "ediff-st-files/joho_2_02_2_gakusei_sample18.xlsx  diff num = 139  add_num = 0\n",
      "now: ediff-st-files/joho_2_02_2_gakusei_sample20.xlsx\n",
      " rownum_sum:51848\n",
      "ediff-st-files/joho_2_02_2_gakusei_sample20.xlsx  diff num = 90  add_num = 0\n",
      "now: ediff-st-files/joho_2_02_2_gakusei_sample21.xlsx\n",
      " rownum_sum:51848\n",
      "ediff-st-files/joho_2_02_2_gakusei_sample21.xlsx  diff num = 0  add_num = 0\n",
      "now: ediff-st-files/joho_2_02_2_gakusei_sample22.xlsx\n",
      " rownum_sum:77723\n",
      "ediff-st-files/joho_2_02_2_gakusei_sample22.xlsx  diff num = 32  add_num = 2\n",
      "now: ediff-st-files/joho_2_02_2_gakusei_sample23.xlsx\n",
      " rownum_sum:51848\n",
      "ediff-st-files/joho_2_02_2_gakusei_sample23.xlsx  diff num = 0  add_num = 0\n",
      "now: ediff-st-files/joho_2_02_2_gakusei_sample24.xlsx\n",
      " rownum_sum:51848\n",
      "ediff-st-files/joho_2_02_2_gakusei_sample24.xlsx  diff num = 0  add_num = 0\n",
      "now: ediff-st-files/joho_2_02_2_gakusei_sample26.xlsx\n",
      " rownum_sum:55672\n",
      "ediff-st-files/joho_2_02_2_gakusei_sample26.xlsx  diff num = 424  add_num = 0\n",
      "now: ediff-st-files/joho_2_02_2_gakusei_sample27.xlsx\n",
      " rownum_sum:77716\n",
      "ediff-st-files/joho_2_02_2_gakusei_sample27.xlsx  diff num = 0  add_num = 0\n",
      "now: ediff-st-files/joho_2_02_2_gakusei_sample29.xlsx\n",
      " rownum_sum:53760\n",
      "ediff-st-files/joho_2_02_2_gakusei_sample29.xlsx  diff num = 611  add_num = 0\n",
      "now: ediff-st-files/joho_2_02_2_gakusei_sample30.xlsx\n",
      " rownum_sum:53760\n",
      "ediff-st-files/joho_2_02_2_gakusei_sample30.xlsx  diff num = 376  add_num = 0\n",
      "now: ediff-st-files/joho_2_02_2_gakusei_sample31.xlsx\n",
      " rownum_sum:53760\n",
      "ediff-st-files/joho_2_02_2_gakusei_sample31.xlsx  diff num = 611  add_num = 0\n",
      "now: ediff-st-files/joho_2_02_2_gakusei_sample32.xlsx\n",
      " rownum_sum:53761\n",
      "ediff-st-files/joho_2_02_2_gakusei_sample32.xlsx  diff num = 566  add_num = 0\n",
      "now: ediff-st-files/joho_2_02_2_gakusei_sample33.xlsx\n",
      " rownum_sum:53759\n",
      "ediff-st-files/joho_2_02_2_gakusei_sample33.xlsx  diff num = 611  add_num = 0\n",
      "now: ediff-st-files/joho_2_02_2_gakusei_sample34.xlsx\n",
      " rownum_sum:55607\n",
      "ediff-st-files/joho_2_02_2_gakusei_sample34.xlsx  diff num = 564  add_num = 0\n",
      "now: ediff-st-files/joho_2_02_2_gakusei_sample35.xlsx\n",
      " rownum_sum:53759\n",
      "ediff-st-files/joho_2_02_2_gakusei_sample35.xlsx  diff num = 517  add_num = 0\n",
      "now: ediff-st-files/joho_2_02_2_gakusei_sample36.xlsx\n",
      " rownum_sum:53760\n",
      "ediff-st-files/joho_2_02_2_gakusei_sample36.xlsx  diff num = 703  add_num = 0\n",
      "now: ediff-st-files/joho_2_02_2_gakusei_sample38.xlsx\n",
      " rownum_sum:55631\n",
      "ediff-st-files/joho_2_02_2_gakusei_sample38.xlsx  diff num = 470  add_num = 0\n",
      "now: ediff-st-files/joho_2_02_2_gakusei_sample39.xlsx\n",
      " rownum_sum:61375\n",
      "ediff-st-files/joho_2_02_2_gakusei_sample39.xlsx  diff num = 160  add_num = 98\n",
      "now: ediff-st-files/joho_2_02_2_gakusei_sample40.xlsx\n",
      " rownum_sum:51848\n",
      "ediff-st-files/joho_2_02_2_gakusei_sample40.xlsx  diff num = 611  add_num = 0\n",
      "now: ediff-st-files/joho_2_02_2_gakusei_sample41.xlsx\n",
      " rownum_sum:55563\n",
      "ediff-st-files/joho_2_02_2_gakusei_sample41.xlsx  diff num = 54  add_num = 0\n",
      "now: ediff-st-files/joho_2_02_2_gakusei_sample42.xlsx\n",
      " rownum_sum:53760\n",
      "ediff-st-files/joho_2_02_2_gakusei_sample42.xlsx  diff num = 564  add_num = 0\n",
      "now: ediff-st-files/joho_2_02_2_gakusei_sample43.xlsx\n",
      " rownum_sum:53761\n",
      "ediff-st-files/joho_2_02_2_gakusei_sample43.xlsx  diff num = 138  add_num = 1\n",
      "now: ediff-st-files/joho_2_02_2_gakusei_sample44.xlsx\n",
      " rownum_sum:31512\n",
      "ediff-st-files/joho_2_02_2_gakusei_sample44.xlsx  diff num = 10  add_num = 0\n",
      "now: ediff-st-files/joho_2_02_2_gakusei_sample45.xlsx\n",
      " rownum_sum:53760\n",
      "ediff-st-files/joho_2_02_2_gakusei_sample45.xlsx  diff num = 0  add_num = 0\n"
     ]
    }
   ],
   "source": [
    "# https://it-ojisan.tokyo/colab-sys-modules/\n",
    "# After running the following code, Google Drive will be mounted and available\n",
    "# if you are running in Google Colab.\n",
    "# When the dialog \"Do you want to allow this notebook to access files on Google Drive?\"\n",
    "# appears, click \"Connect to Google Drive\" to allow it.\n",
    "import sys\n",
    "moduleList = sys.modules\n",
    "ENV_COLAB = False\n",
    "if 'google.colab' in moduleList:\n",
    "    ENV_COLAB = True\n",
    "    # print(\"google_colab\")\n",
    "if ENV_COLAB:\n",
    "  from google.colab import drive\n",
    "  drive.mount('/content/drive')\n",
    "  gdpath = \"/content/drive/MyDrive/\"\n",
    "else:\n",
    "  gdpath = \"\"\n",
    "\n",
    "# make folders\n",
    "import os\n",
    "ansfile_folder = gdpath + \"ediff-ans-files\"\n",
    "stfile_folder  = gdpath + \"ediff-st-files\"\n",
    "out_folder     = gdpath + \"ediff-out-files\"\n",
    "os.makedirs(ansfile_folder, exist_ok=True)\n",
    "os.makedirs(stfile_folder, exist_ok=True)\n",
    "os.makedirs(out_folder, exist_ok=True)\n",
    "\n",
    "# https://tech-blog.rakus.co.jp/entry/20210729/openpyxl\n",
    "# https://atmarkit.itmedia.co.jp/ait/articles/2202/08/news031.html\n",
    "import glob\n",
    "import openpyxl\n",
    "from openpyxl.comments import Comment\n",
    "from openpyxl.styles import PatternFill, Border, Side, Alignment, Protection, Font\n",
    "\n",
    "ansfiles = glob.glob(ansfile_folder + \"/**/*.xlsx\", recursive=True)\n",
    "for file0 in sorted(ansfiles):\n",
    "  ansfilename = file0\n",
    "print(\"answer file : \" + ansfilename)\n",
    "wb_ans      = openpyxl.load_workbook(ansfilename, data_only=True)\n",
    "#wb_ans      = openpyxl.load_workbook(ansfile_folder + \"/joho_2_02_2_kaitou.xlsx\", data_only=True)\n",
    "\n",
    "fileno = 0\n",
    "stfiles = glob.glob(stfile_folder + \"/**/*.xlsx\", recursive=True)\n",
    "for stfile in sorted(stfiles):\n",
    "  fileno += 1\n",
    "  #if(fileno < 34):\n",
    "    #continue\n",
    "  print(\"now: \" + stfile)\n",
    "  wb_dataonly = openpyxl.load_workbook(stfile, data_only=True) # 数式ではなく計算結果\n",
    "  wb_dataonly.close()\n",
    "  wb          = openpyxl.load_workbook(stfile)\n",
    "\n",
    "  # 巨大なファイルを読み込むときのオプション：\n",
    "  # https://openpyxl.readthedocs.io/en/stable/optimized.html?highlight=load_workbook#read-only-mode\n",
    "\n",
    "  rownum_sum = 0\n",
    "  for sheet in wb:\n",
    "    rownum_sum += sheet.max_row\n",
    "  print(f' rownum_sum:{rownum_sum}')\n",
    "  if (rownum_sum > 10000000):\n",
    "    nosave = True\n",
    "  else:\n",
    "    nosave = False\n",
    "    \n",
    "  diff_num = 0\n",
    "  add_num = 0\n",
    "  # すべてのシートについて\n",
    "  for wsheet in wb:\n",
    "    if (wsheet.title != 'enshuu' and wsheet.title != 'ouyou') :\n",
    "      continue\n",
    "    wsheet_ans      = wb_ans[wsheet.title]\n",
    "    wsheet_dataonly = wb_dataonly[wsheet.title]\n",
    "    #print(f'******* sheet name: {wsheet.title}') #####\n",
    "\n",
    "    # ワークシートの全セルを反復（行ごと）\n",
    "    irow = 0\n",
    "    for row in wsheet.iter_rows():\n",
    "      irow += 1\n",
    "      if (irow > 100):\n",
    "        continue\n",
    "      icol = 0\n",
    "      for cell in row:\n",
    "        icol += 1\n",
    "        if (icol > 100):\n",
    "          continue\n",
    "        value_ans = wsheet_ans.cell(cell.row, cell.column).value\n",
    "        value_dataonly = wsheet_dataonly.cell(cell.row, cell.column).value\n",
    "        if (str(value_dataonly) != str(value_ans)):\n",
    "        #if (str(cell.value) != str(value_ans)):\n",
    "          cell.comment = Comment(str(value_ans), \"excel-diff\") # comment, author\n",
    "          # print(\"[\" + str(cell.row) + \",\" + str(cell.column) + \"] \" + str(value_dataonly) + \"<\" + str(cell.value) + \">  ans:\" + str(value_ans))\n",
    "          if(str(value_ans) == \"None\"):\n",
    "            add_num += 1\n",
    "          else:\n",
    "            diff_num += 1\n",
    "  '''\n",
    "  # ワークシートの全セルを反復（列ごと）\n",
    "for column in ws.iter_cols(values_only=True):\n",
    "    print(column)\n",
    "\n",
    "for column in ws.columns:\n",
    "    for cell in column:\n",
    "        print(cell.value)\n",
    "  '''\n",
    "  print(stfile + \"  diff num = \" + str(diff_num) + \"  add_num = \" + str(add_num))\n",
    "  outfile = stfile\n",
    "  outfile = outfile.replace(stfile_folder, \"\").replace(\"/\",\"_\")\n",
    "  if(nosave):\n",
    "    print(\" \" + stfile + \" is too big to save.\")\n",
    "  else:\n",
    "    wb.save(out_folder + \"/{:06}\".format(diff_num) + \"_\" + \"{:06}\".format(add_num) + \"_\" + outfile)\n",
    "  wb.close()\n",
    "\n"
   ]
  },
  {
   "cell_type": "code",
   "execution_count": null,
   "id": "4bd63663-b9fd-4fd5-a5d3-31fa7cf9b66e",
   "metadata": {
    "jupyter": {
     "source_hidden": true
    },
    "tags": []
   },
   "outputs": [],
   "source": [
    "#Identifier,Grade,\"Last modified (grade)\",\"Feedback comments\"\n",
    "#\"Participant 5219407\",81,,\"ind1:0 ind2:123 ind3:20\"\n",
    "#\"Participant 5219552\",82,,\"ind1:20 ind2:103 ind3:30\""
   ]
  },
  {
   "cell_type": "code",
   "execution_count": 7,
   "id": "25cac94d-5ac6-487d-9427-f252ba880661",
   "metadata": {
    "tags": []
   },
   "outputs": [
    {
     "data": {
      "application/vnd.plotly.v1+json": {
       "config": {
        "plotlyServerURL": "https://plot.ly"
       },
       "data": [
        {
         "marker": {
          "color": [
           "rgb(93, 164, 214)",
           "rgb(255, 144, 14)",
           "rgb(44, 160, 101)",
           "rgb(255, 65, 54)"
          ],
          "size": [
           40,
           60,
           80,
           100
          ]
         },
         "mode": "markers",
         "text": [
          "A<br>size: 40",
          "B<br>size: 60",
          "C<br>size: 80",
          "D<br>size: 100"
         ],
         "type": "scatter",
         "x": [
          1,
          2,
          3,
          4
         ],
         "y": [
          10,
          11,
          12,
          13
         ]
        }
       ],
       "layout": {
        "autosize": true,
        "template": {
         "data": {
          "bar": [
           {
            "error_x": {
             "color": "#2a3f5f"
            },
            "error_y": {
             "color": "#2a3f5f"
            },
            "marker": {
             "line": {
              "color": "#E5ECF6",
              "width": 0.5
             },
             "pattern": {
              "fillmode": "overlay",
              "size": 10,
              "solidity": 0.2
             }
            },
            "type": "bar"
           }
          ],
          "barpolar": [
           {
            "marker": {
             "line": {
              "color": "#E5ECF6",
              "width": 0.5
             },
             "pattern": {
              "fillmode": "overlay",
              "size": 10,
              "solidity": 0.2
             }
            },
            "type": "barpolar"
           }
          ],
          "carpet": [
           {
            "aaxis": {
             "endlinecolor": "#2a3f5f",
             "gridcolor": "white",
             "linecolor": "white",
             "minorgridcolor": "white",
             "startlinecolor": "#2a3f5f"
            },
            "baxis": {
             "endlinecolor": "#2a3f5f",
             "gridcolor": "white",
             "linecolor": "white",
             "minorgridcolor": "white",
             "startlinecolor": "#2a3f5f"
            },
            "type": "carpet"
           }
          ],
          "choropleth": [
           {
            "colorbar": {
             "outlinewidth": 0,
             "ticks": ""
            },
            "type": "choropleth"
           }
          ],
          "contour": [
           {
            "colorbar": {
             "outlinewidth": 0,
             "ticks": ""
            },
            "colorscale": [
             [
              0,
              "#0d0887"
             ],
             [
              0.1111111111111111,
              "#46039f"
             ],
             [
              0.2222222222222222,
              "#7201a8"
             ],
             [
              0.3333333333333333,
              "#9c179e"
             ],
             [
              0.4444444444444444,
              "#bd3786"
             ],
             [
              0.5555555555555556,
              "#d8576b"
             ],
             [
              0.6666666666666666,
              "#ed7953"
             ],
             [
              0.7777777777777778,
              "#fb9f3a"
             ],
             [
              0.8888888888888888,
              "#fdca26"
             ],
             [
              1,
              "#f0f921"
             ]
            ],
            "type": "contour"
           }
          ],
          "contourcarpet": [
           {
            "colorbar": {
             "outlinewidth": 0,
             "ticks": ""
            },
            "type": "contourcarpet"
           }
          ],
          "heatmap": [
           {
            "colorbar": {
             "outlinewidth": 0,
             "ticks": ""
            },
            "colorscale": [
             [
              0,
              "#0d0887"
             ],
             [
              0.1111111111111111,
              "#46039f"
             ],
             [
              0.2222222222222222,
              "#7201a8"
             ],
             [
              0.3333333333333333,
              "#9c179e"
             ],
             [
              0.4444444444444444,
              "#bd3786"
             ],
             [
              0.5555555555555556,
              "#d8576b"
             ],
             [
              0.6666666666666666,
              "#ed7953"
             ],
             [
              0.7777777777777778,
              "#fb9f3a"
             ],
             [
              0.8888888888888888,
              "#fdca26"
             ],
             [
              1,
              "#f0f921"
             ]
            ],
            "type": "heatmap"
           }
          ],
          "heatmapgl": [
           {
            "colorbar": {
             "outlinewidth": 0,
             "ticks": ""
            },
            "colorscale": [
             [
              0,
              "#0d0887"
             ],
             [
              0.1111111111111111,
              "#46039f"
             ],
             [
              0.2222222222222222,
              "#7201a8"
             ],
             [
              0.3333333333333333,
              "#9c179e"
             ],
             [
              0.4444444444444444,
              "#bd3786"
             ],
             [
              0.5555555555555556,
              "#d8576b"
             ],
             [
              0.6666666666666666,
              "#ed7953"
             ],
             [
              0.7777777777777778,
              "#fb9f3a"
             ],
             [
              0.8888888888888888,
              "#fdca26"
             ],
             [
              1,
              "#f0f921"
             ]
            ],
            "type": "heatmapgl"
           }
          ],
          "histogram": [
           {
            "marker": {
             "pattern": {
              "fillmode": "overlay",
              "size": 10,
              "solidity": 0.2
             }
            },
            "type": "histogram"
           }
          ],
          "histogram2d": [
           {
            "colorbar": {
             "outlinewidth": 0,
             "ticks": ""
            },
            "colorscale": [
             [
              0,
              "#0d0887"
             ],
             [
              0.1111111111111111,
              "#46039f"
             ],
             [
              0.2222222222222222,
              "#7201a8"
             ],
             [
              0.3333333333333333,
              "#9c179e"
             ],
             [
              0.4444444444444444,
              "#bd3786"
             ],
             [
              0.5555555555555556,
              "#d8576b"
             ],
             [
              0.6666666666666666,
              "#ed7953"
             ],
             [
              0.7777777777777778,
              "#fb9f3a"
             ],
             [
              0.8888888888888888,
              "#fdca26"
             ],
             [
              1,
              "#f0f921"
             ]
            ],
            "type": "histogram2d"
           }
          ],
          "histogram2dcontour": [
           {
            "colorbar": {
             "outlinewidth": 0,
             "ticks": ""
            },
            "colorscale": [
             [
              0,
              "#0d0887"
             ],
             [
              0.1111111111111111,
              "#46039f"
             ],
             [
              0.2222222222222222,
              "#7201a8"
             ],
             [
              0.3333333333333333,
              "#9c179e"
             ],
             [
              0.4444444444444444,
              "#bd3786"
             ],
             [
              0.5555555555555556,
              "#d8576b"
             ],
             [
              0.6666666666666666,
              "#ed7953"
             ],
             [
              0.7777777777777778,
              "#fb9f3a"
             ],
             [
              0.8888888888888888,
              "#fdca26"
             ],
             [
              1,
              "#f0f921"
             ]
            ],
            "type": "histogram2dcontour"
           }
          ],
          "mesh3d": [
           {
            "colorbar": {
             "outlinewidth": 0,
             "ticks": ""
            },
            "type": "mesh3d"
           }
          ],
          "parcoords": [
           {
            "line": {
             "colorbar": {
              "outlinewidth": 0,
              "ticks": ""
             }
            },
            "type": "parcoords"
           }
          ],
          "pie": [
           {
            "automargin": true,
            "type": "pie"
           }
          ],
          "scatter": [
           {
            "fillpattern": {
             "fillmode": "overlay",
             "size": 10,
             "solidity": 0.2
            },
            "type": "scatter"
           }
          ],
          "scatter3d": [
           {
            "line": {
             "colorbar": {
              "outlinewidth": 0,
              "ticks": ""
             }
            },
            "marker": {
             "colorbar": {
              "outlinewidth": 0,
              "ticks": ""
             }
            },
            "type": "scatter3d"
           }
          ],
          "scattercarpet": [
           {
            "marker": {
             "colorbar": {
              "outlinewidth": 0,
              "ticks": ""
             }
            },
            "type": "scattercarpet"
           }
          ],
          "scattergeo": [
           {
            "marker": {
             "colorbar": {
              "outlinewidth": 0,
              "ticks": ""
             }
            },
            "type": "scattergeo"
           }
          ],
          "scattergl": [
           {
            "marker": {
             "colorbar": {
              "outlinewidth": 0,
              "ticks": ""
             }
            },
            "type": "scattergl"
           }
          ],
          "scattermapbox": [
           {
            "marker": {
             "colorbar": {
              "outlinewidth": 0,
              "ticks": ""
             }
            },
            "type": "scattermapbox"
           }
          ],
          "scatterpolar": [
           {
            "marker": {
             "colorbar": {
              "outlinewidth": 0,
              "ticks": ""
             }
            },
            "type": "scatterpolar"
           }
          ],
          "scatterpolargl": [
           {
            "marker": {
             "colorbar": {
              "outlinewidth": 0,
              "ticks": ""
             }
            },
            "type": "scatterpolargl"
           }
          ],
          "scatterternary": [
           {
            "marker": {
             "colorbar": {
              "outlinewidth": 0,
              "ticks": ""
             }
            },
            "type": "scatterternary"
           }
          ],
          "surface": [
           {
            "colorbar": {
             "outlinewidth": 0,
             "ticks": ""
            },
            "colorscale": [
             [
              0,
              "#0d0887"
             ],
             [
              0.1111111111111111,
              "#46039f"
             ],
             [
              0.2222222222222222,
              "#7201a8"
             ],
             [
              0.3333333333333333,
              "#9c179e"
             ],
             [
              0.4444444444444444,
              "#bd3786"
             ],
             [
              0.5555555555555556,
              "#d8576b"
             ],
             [
              0.6666666666666666,
              "#ed7953"
             ],
             [
              0.7777777777777778,
              "#fb9f3a"
             ],
             [
              0.8888888888888888,
              "#fdca26"
             ],
             [
              1,
              "#f0f921"
             ]
            ],
            "type": "surface"
           }
          ],
          "table": [
           {
            "cells": {
             "fill": {
              "color": "#EBF0F8"
             },
             "line": {
              "color": "white"
             }
            },
            "header": {
             "fill": {
              "color": "#C8D4E3"
             },
             "line": {
              "color": "white"
             }
            },
            "type": "table"
           }
          ]
         },
         "layout": {
          "annotationdefaults": {
           "arrowcolor": "#2a3f5f",
           "arrowhead": 0,
           "arrowwidth": 1
          },
          "autotypenumbers": "strict",
          "coloraxis": {
           "colorbar": {
            "outlinewidth": 0,
            "ticks": ""
           }
          },
          "colorscale": {
           "diverging": [
            [
             0,
             "#8e0152"
            ],
            [
             0.1,
             "#c51b7d"
            ],
            [
             0.2,
             "#de77ae"
            ],
            [
             0.3,
             "#f1b6da"
            ],
            [
             0.4,
             "#fde0ef"
            ],
            [
             0.5,
             "#f7f7f7"
            ],
            [
             0.6,
             "#e6f5d0"
            ],
            [
             0.7,
             "#b8e186"
            ],
            [
             0.8,
             "#7fbc41"
            ],
            [
             0.9,
             "#4d9221"
            ],
            [
             1,
             "#276419"
            ]
           ],
           "sequential": [
            [
             0,
             "#0d0887"
            ],
            [
             0.1111111111111111,
             "#46039f"
            ],
            [
             0.2222222222222222,
             "#7201a8"
            ],
            [
             0.3333333333333333,
             "#9c179e"
            ],
            [
             0.4444444444444444,
             "#bd3786"
            ],
            [
             0.5555555555555556,
             "#d8576b"
            ],
            [
             0.6666666666666666,
             "#ed7953"
            ],
            [
             0.7777777777777778,
             "#fb9f3a"
            ],
            [
             0.8888888888888888,
             "#fdca26"
            ],
            [
             1,
             "#f0f921"
            ]
           ],
           "sequentialminus": [
            [
             0,
             "#0d0887"
            ],
            [
             0.1111111111111111,
             "#46039f"
            ],
            [
             0.2222222222222222,
             "#7201a8"
            ],
            [
             0.3333333333333333,
             "#9c179e"
            ],
            [
             0.4444444444444444,
             "#bd3786"
            ],
            [
             0.5555555555555556,
             "#d8576b"
            ],
            [
             0.6666666666666666,
             "#ed7953"
            ],
            [
             0.7777777777777778,
             "#fb9f3a"
            ],
            [
             0.8888888888888888,
             "#fdca26"
            ],
            [
             1,
             "#f0f921"
            ]
           ]
          },
          "colorway": [
           "#636efa",
           "#EF553B",
           "#00cc96",
           "#ab63fa",
           "#FFA15A",
           "#19d3f3",
           "#FF6692",
           "#B6E880",
           "#FF97FF",
           "#FECB52"
          ],
          "font": {
           "color": "#2a3f5f"
          },
          "geo": {
           "bgcolor": "white",
           "lakecolor": "white",
           "landcolor": "#E5ECF6",
           "showlakes": true,
           "showland": true,
           "subunitcolor": "white"
          },
          "hoverlabel": {
           "align": "left"
          },
          "hovermode": "closest",
          "mapbox": {
           "style": "light"
          },
          "paper_bgcolor": "white",
          "plot_bgcolor": "#E5ECF6",
          "polar": {
           "angularaxis": {
            "gridcolor": "white",
            "linecolor": "white",
            "ticks": ""
           },
           "bgcolor": "#E5ECF6",
           "radialaxis": {
            "gridcolor": "white",
            "linecolor": "white",
            "ticks": ""
           }
          },
          "scene": {
           "xaxis": {
            "backgroundcolor": "#E5ECF6",
            "gridcolor": "white",
            "gridwidth": 2,
            "linecolor": "white",
            "showbackground": true,
            "ticks": "",
            "zerolinecolor": "white"
           },
           "yaxis": {
            "backgroundcolor": "#E5ECF6",
            "gridcolor": "white",
            "gridwidth": 2,
            "linecolor": "white",
            "showbackground": true,
            "ticks": "",
            "zerolinecolor": "white"
           },
           "zaxis": {
            "backgroundcolor": "#E5ECF6",
            "gridcolor": "white",
            "gridwidth": 2,
            "linecolor": "white",
            "showbackground": true,
            "ticks": "",
            "zerolinecolor": "white"
           }
          },
          "shapedefaults": {
           "line": {
            "color": "#2a3f5f"
           }
          },
          "ternary": {
           "aaxis": {
            "gridcolor": "white",
            "linecolor": "white",
            "ticks": ""
           },
           "baxis": {
            "gridcolor": "white",
            "linecolor": "white",
            "ticks": ""
           },
           "bgcolor": "#E5ECF6",
           "caxis": {
            "gridcolor": "white",
            "linecolor": "white",
            "ticks": ""
           }
          },
          "title": {
           "x": 0.05
          },
          "xaxis": {
           "automargin": true,
           "gridcolor": "white",
           "linecolor": "white",
           "ticks": "",
           "title": {
            "standoff": 15
           },
           "zerolinecolor": "white",
           "zerolinewidth": 2
          },
          "yaxis": {
           "automargin": true,
           "gridcolor": "white",
           "linecolor": "white",
           "ticks": "",
           "title": {
            "standoff": 15
           },
           "zerolinecolor": "white",
           "zerolinewidth": 2
          }
         }
        },
        "xaxis": {
         "autorange": false,
         "range": [
          0.2523717060362456,
          4.977024637093131
         ],
         "showspikes": false,
         "type": "linear"
        },
        "yaxis": {
         "autorange": false,
         "range": [
          9.281880013894716,
          15.000000819263843
         ],
         "showspikes": false,
         "type": "linear"
        }
       }
      },
      "image/png": "[encoded data removed]",
      "text/html": [
       "<div>                            <div id=\"92850619-4a14-404b-9ee4-ee6c4bcab9c4\" class=\"plotly-graph-div\" style=\"height:525px; width:100%;\"></div>            <script type=\"text/javascript\">                require([\"plotly\"], function(Plotly) {                    window.PLOTLYENV=window.PLOTLYENV || {};                                    if (document.getElementById(\"92850619-4a14-404b-9ee4-ee6c4bcab9c4\")) {                    Plotly.newPlot(                        \"92850619-4a14-404b-9ee4-ee6c4bcab9c4\",                        [{\"marker\":{\"color\":[\"rgb(93, 164, 214)\",\"rgb(255, 144, 14)\",\"rgb(44, 160, 101)\",\"rgb(255, 65, 54)\"],\"size\":[40,60,80,100]},\"mode\":\"markers\",\"text\":[\"A<br>size: 40\",\"B<br>size: 60\",\"C<br>size: 80\",\"D<br>size: 100\"],\"x\":[1,2,3,4],\"y\":[10,11,12,13],\"type\":\"scatter\"}],                        {\"template\":{\"data\":{\"histogram2dcontour\":[{\"type\":\"histogram2dcontour\",\"colorbar\":{\"outlinewidth\":0,\"ticks\":\"\"},\"colorscale\":[[0.0,\"#0d0887\"],[0.1111111111111111,\"#46039f\"],[0.2222222222222222,\"#7201a8\"],[0.3333333333333333,\"#9c179e\"],[0.4444444444444444,\"#bd3786\"],[0.5555555555555556,\"#d8576b\"],[0.6666666666666666,\"#ed7953\"],[0.7777777777777778,\"#fb9f3a\"],[0.8888888888888888,\"#fdca26\"],[1.0,\"#f0f921\"]]}],\"choropleth\":[{\"type\":\"choropleth\",\"colorbar\":{\"outlinewidth\":0,\"ticks\":\"\"}}],\"histogram2d\":[{\"type\":\"histogram2d\",\"colorbar\":{\"outlinewidth\":0,\"ticks\":\"\"},\"colorscale\":[[0.0,\"#0d0887\"],[0.1111111111111111,\"#46039f\"],[0.2222222222222222,\"#7201a8\"],[0.3333333333333333,\"#9c179e\"],[0.4444444444444444,\"#bd3786\"],[0.5555555555555556,\"#d8576b\"],[0.6666666666666666,\"#ed7953\"],[0.7777777777777778,\"#fb9f3a\"],[0.8888888888888888,\"#fdca26\"],[1.0,\"#f0f921\"]]}],\"heatmap\":[{\"type\":\"heatmap\",\"colorbar\":{\"outlinewidth\":0,\"ticks\":\"\"},\"colorscale\":[[0.0,\"#0d0887\"],[0.1111111111111111,\"#46039f\"],[0.2222222222222222,\"#7201a8\"],[0.3333333333333333,\"#9c179e\"],[0.4444444444444444,\"#bd3786\"],[0.5555555555555556,\"#d8576b\"],[0.6666666666666666,\"#ed7953\"],[0.7777777777777778,\"#fb9f3a\"],[0.8888888888888888,\"#fdca26\"],[1.0,\"#f0f921\"]]}],\"heatmapgl\":[{\"type\":\"heatmapgl\",\"colorbar\":{\"outlinewidth\":0,\"ticks\":\"\"},\"colorscale\":[[0.0,\"#0d0887\"],[0.1111111111111111,\"#46039f\"],[0.2222222222222222,\"#7201a8\"],[0.3333333333333333,\"#9c179e\"],[0.4444444444444444,\"#bd3786\"],[0.5555555555555556,\"#d8576b\"],[0.6666666666666666,\"#ed7953\"],[0.7777777777777778,\"#fb9f3a\"],[0.8888888888888888,\"#fdca26\"],[1.0,\"#f0f921\"]]}],\"contourcarpet\":[{\"type\":\"contourcarpet\",\"colorbar\":{\"outlinewidth\":0,\"ticks\":\"\"}}],\"contour\":[{\"type\":\"contour\",\"colorbar\":{\"outlinewidth\":0,\"ticks\":\"\"},\"colorscale\":[[0.0,\"#0d0887\"],[0.1111111111111111,\"#46039f\"],[0.2222222222222222,\"#7201a8\"],[0.3333333333333333,\"#9c179e\"],[0.4444444444444444,\"#bd3786\"],[0.5555555555555556,\"#d8576b\"],[0.6666666666666666,\"#ed7953\"],[0.7777777777777778,\"#fb9f3a\"],[0.8888888888888888,\"#fdca26\"],[1.0,\"#f0f921\"]]}],\"surface\":[{\"type\":\"surface\",\"colorbar\":{\"outlinewidth\":0,\"ticks\":\"\"},\"colorscale\":[[0.0,\"#0d0887\"],[0.1111111111111111,\"#46039f\"],[0.2222222222222222,\"#7201a8\"],[0.3333333333333333,\"#9c179e\"],[0.4444444444444444,\"#bd3786\"],[0.5555555555555556,\"#d8576b\"],[0.6666666666666666,\"#ed7953\"],[0.7777777777777778,\"#fb9f3a\"],[0.8888888888888888,\"#fdca26\"],[1.0,\"#f0f921\"]]}],\"mesh3d\":[{\"type\":\"mesh3d\",\"colorbar\":{\"outlinewidth\":0,\"ticks\":\"\"}}],\"scatter\":[{\"fillpattern\":{\"fillmode\":\"overlay\",\"size\":10,\"solidity\":0.2},\"type\":\"scatter\"}],\"parcoords\":[{\"type\":\"parcoords\",\"line\":{\"colorbar\":{\"outlinewidth\":0,\"ticks\":\"\"}}}],\"scatterpolargl\":[{\"type\":\"scatterpolargl\",\"marker\":{\"colorbar\":{\"outlinewidth\":0,\"ticks\":\"\"}}}],\"bar\":[{\"error_x\":{\"color\":\"#2a3f5f\"},\"error_y\":{\"color\":\"#2a3f5f\"},\"marker\":{\"line\":{\"color\":\"#E5ECF6\",\"width\":0.5},\"pattern\":{\"fillmode\":\"overlay\",\"size\":10,\"solidity\":0.2}},\"type\":\"bar\"}],\"scattergeo\":[{\"type\":\"scattergeo\",\"marker\":{\"colorbar\":{\"outlinewidth\":0,\"ticks\":\"\"}}}],\"scatterpolar\":[{\"type\":\"scatterpolar\",\"marker\":{\"colorbar\":{\"outlinewidth\":0,\"ticks\":\"\"}}}],\"histogram\":[{\"marker\":{\"pattern\":{\"fillmode\":\"overlay\",\"size\":10,\"solidity\":0.2}},\"type\":\"histogram\"}],\"scattergl\":[{\"type\":\"scattergl\",\"marker\":{\"colorbar\":{\"outlinewidth\":0,\"ticks\":\"\"}}}],\"scatter3d\":[{\"type\":\"scatter3d\",\"line\":{\"colorbar\":{\"outlinewidth\":0,\"ticks\":\"\"}},\"marker\":{\"colorbar\":{\"outlinewidth\":0,\"ticks\":\"\"}}}],\"scattermapbox\":[{\"type\":\"scattermapbox\",\"marker\":{\"colorbar\":{\"outlinewidth\":0,\"ticks\":\"\"}}}],\"scatterternary\":[{\"type\":\"scatterternary\",\"marker\":{\"colorbar\":{\"outlinewidth\":0,\"ticks\":\"\"}}}],\"scattercarpet\":[{\"type\":\"scattercarpet\",\"marker\":{\"colorbar\":{\"outlinewidth\":0,\"ticks\":\"\"}}}],\"carpet\":[{\"aaxis\":{\"endlinecolor\":\"#2a3f5f\",\"gridcolor\":\"white\",\"linecolor\":\"white\",\"minorgridcolor\":\"white\",\"startlinecolor\":\"#2a3f5f\"},\"baxis\":{\"endlinecolor\":\"#2a3f5f\",\"gridcolor\":\"white\",\"linecolor\":\"white\",\"minorgridcolor\":\"white\",\"startlinecolor\":\"#2a3f5f\"},\"type\":\"carpet\"}],\"table\":[{\"cells\":{\"fill\":{\"color\":\"#EBF0F8\"},\"line\":{\"color\":\"white\"}},\"header\":{\"fill\":{\"color\":\"#C8D4E3\"},\"line\":{\"color\":\"white\"}},\"type\":\"table\"}],\"barpolar\":[{\"marker\":{\"line\":{\"color\":\"#E5ECF6\",\"width\":0.5},\"pattern\":{\"fillmode\":\"overlay\",\"size\":10,\"solidity\":0.2}},\"type\":\"barpolar\"}],\"pie\":[{\"automargin\":true,\"type\":\"pie\"}]},\"layout\":{\"autotypenumbers\":\"strict\",\"colorway\":[\"#636efa\",\"#EF553B\",\"#00cc96\",\"#ab63fa\",\"#FFA15A\",\"#19d3f3\",\"#FF6692\",\"#B6E880\",\"#FF97FF\",\"#FECB52\"],\"font\":{\"color\":\"#2a3f5f\"},\"hovermode\":\"closest\",\"hoverlabel\":{\"align\":\"left\"},\"paper_bgcolor\":\"white\",\"plot_bgcolor\":\"#E5ECF6\",\"polar\":{\"bgcolor\":\"#E5ECF6\",\"angularaxis\":{\"gridcolor\":\"white\",\"linecolor\":\"white\",\"ticks\":\"\"},\"radialaxis\":{\"gridcolor\":\"white\",\"linecolor\":\"white\",\"ticks\":\"\"}},\"ternary\":{\"bgcolor\":\"#E5ECF6\",\"aaxis\":{\"gridcolor\":\"white\",\"linecolor\":\"white\",\"ticks\":\"\"},\"baxis\":{\"gridcolor\":\"white\",\"linecolor\":\"white\",\"ticks\":\"\"},\"caxis\":{\"gridcolor\":\"white\",\"linecolor\":\"white\",\"ticks\":\"\"}},\"coloraxis\":{\"colorbar\":{\"outlinewidth\":0,\"ticks\":\"\"}},\"colorscale\":{\"sequential\":[[0.0,\"#0d0887\"],[0.1111111111111111,\"#46039f\"],[0.2222222222222222,\"#7201a8\"],[0.3333333333333333,\"#9c179e\"],[0.4444444444444444,\"#bd3786\"],[0.5555555555555556,\"#d8576b\"],[0.6666666666666666,\"#ed7953\"],[0.7777777777777778,\"#fb9f3a\"],[0.8888888888888888,\"#fdca26\"],[1.0,\"#f0f921\"]],\"sequentialminus\":[[0.0,\"#0d0887\"],[0.1111111111111111,\"#46039f\"],[0.2222222222222222,\"#7201a8\"],[0.3333333333333333,\"#9c179e\"],[0.4444444444444444,\"#bd3786\"],[0.5555555555555556,\"#d8576b\"],[0.6666666666666666,\"#ed7953\"],[0.7777777777777778,\"#fb9f3a\"],[0.8888888888888888,\"#fdca26\"],[1.0,\"#f0f921\"]],\"diverging\":[[0,\"#8e0152\"],[0.1,\"#c51b7d\"],[0.2,\"#de77ae\"],[0.3,\"#f1b6da\"],[0.4,\"#fde0ef\"],[0.5,\"#f7f7f7\"],[0.6,\"#e6f5d0\"],[0.7,\"#b8e186\"],[0.8,\"#7fbc41\"],[0.9,\"#4d9221\"],[1,\"#276419\"]]},\"xaxis\":{\"gridcolor\":\"white\",\"linecolor\":\"white\",\"ticks\":\"\",\"title\":{\"standoff\":15},\"zerolinecolor\":\"white\",\"automargin\":true,\"zerolinewidth\":2},\"yaxis\":{\"gridcolor\":\"white\",\"linecolor\":\"white\",\"ticks\":\"\",\"title\":{\"standoff\":15},\"zerolinecolor\":\"white\",\"automargin\":true,\"zerolinewidth\":2},\"scene\":{\"xaxis\":{\"backgroundcolor\":\"#E5ECF6\",\"gridcolor\":\"white\",\"linecolor\":\"white\",\"showbackground\":true,\"ticks\":\"\",\"zerolinecolor\":\"white\",\"gridwidth\":2},\"yaxis\":{\"backgroundcolor\":\"#E5ECF6\",\"gridcolor\":\"white\",\"linecolor\":\"white\",\"showbackground\":true,\"ticks\":\"\",\"zerolinecolor\":\"white\",\"gridwidth\":2},\"zaxis\":{\"backgroundcolor\":\"#E5ECF6\",\"gridcolor\":\"white\",\"linecolor\":\"white\",\"showbackground\":true,\"ticks\":\"\",\"zerolinecolor\":\"white\",\"gridwidth\":2}},\"shapedefaults\":{\"line\":{\"color\":\"#2a3f5f\"}},\"annotationdefaults\":{\"arrowcolor\":\"#2a3f5f\",\"arrowhead\":0,\"arrowwidth\":1},\"geo\":{\"bgcolor\":\"white\",\"landcolor\":\"#E5ECF6\",\"subunitcolor\":\"white\",\"showland\":true,\"showlakes\":true,\"lakecolor\":\"white\"},\"title\":{\"x\":0.05},\"mapbox\":{\"style\":\"light\"}}}},                        {\"responsive\": true}                    ).then(function(){\n",
       "                            \n",
       "var gd = document.getElementById('92850619-4a14-404b-9ee4-ee6c4bcab9c4');\n",
       "var x = new MutationObserver(function (mutations, observer) {{\n",
       "        var display = window.getComputedStyle(gd).display;\n",
       "        if (!display || display === 'none') {{\n",
       "            console.log([gd, 'removed!']);\n",
       "            Plotly.purge(gd);\n",
       "            observer.disconnect();\n",
       "        }}\n",
       "}});\n",
       "\n",
       "// Listen for the removal of the full notebook cells\n",
       "var notebookContainer = gd.closest('#notebook-container');\n",
       "if (notebookContainer) {{\n",
       "    x.observe(notebookContainer, {childList: true});\n",
       "}}\n",
       "\n",
       "// Listen for the clearing of the current output cell\n",
       "var outputEl = gd.closest('.output');\n",
       "if (outputEl) {{\n",
       "    x.observe(outputEl, {childList: true});\n",
       "}}\n",
       "\n",
       "                        })                };                });            </script>        </div>"
      ]
     },
     "metadata": {},
     "output_type": "display_data"
    }
   ],
   "source": [
    "# https://plotly.com/python/\n",
    "import plotly.graph_objects as go\n",
    "\n",
    "fig = go.Figure(data=[go.Scatter(\n",
    "    x=[1, 2, 3, 4], y=[10, 11, 12, 13],\n",
    "    text=['A<br>size: 40', 'B<br>size: 60', 'C<br>size: 80', 'D<br>size: 100'],\n",
    "    mode='markers',\n",
    "    marker=dict(\n",
    "        color=['rgb(93, 164, 214)', 'rgb(255, 144, 14)',  'rgb(44, 160, 101)', 'rgb(255, 65, 54)'],\n",
    "        size=[40, 60, 80, 100],\n",
    "    )\n",
    ")])\n",
    "\n",
    "fig.show()\n"
   ]
  },
  {
   "cell_type": "code",
   "execution_count": null,
   "id": "a066973f-6421-4b13-81b0-3604f44073d5",
   "metadata": {},
   "outputs": [],
   "source": []
  }
 ],
 "metadata": {
  "colab": {
   "collapsed_sections": [],
   "provenance": []
  },
  "kernelspec": {
   "display_name": "Python 3 (ipykernel)",
   "language": "python",
   "name": "python3"
  },
  "language_info": {
   "codemirror_mode": {
    "name": "ipython",
    "version": 3
   },
   "file_extension": ".py",
   "mimetype": "text/x-python",
   "name": "python",
   "nbconvert_exporter": "python",
   "pygments_lexer": "ipython3",
   "version": "3.9.13"
  }
 },
 "nbformat": 4,
 "nbformat_minor": 5
}
