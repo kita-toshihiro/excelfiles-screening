{
 "cells": [
  {
   "cell_type": "markdown",
   "id": "MFE23JbnRXg2",
   "metadata": {
    "id": "MFE23JbnRXg2",
    "tags": []
   },
   "source": [
    "## このスクリプト\n",
    "\n",
    "教師が作った模範解答としての Excelファイルと、各学生が解答として提出したExcelファイルとを、セルを一つ一つ比較して、差がどれくらいあるかをチェックするスクリプトです。"
   ]
  },
  {
   "cell_type": "markdown",
   "id": "wF9fsx0qRR9d",
   "metadata": {
    "id": "wF9fsx0qRR9d"
   },
   "source": [
    "## This script\n",
    "\n",
    "This script compares the Excel file as the correct answer created by the teacher and the Excel file submitted as the answer by each student, cell by cell, and checks how much difference between those 2 files."
   ]
  },
  {
   "cell_type": "markdown",
   "id": "9d2d6dbb-0f9c-4d71-b971-7c26df0ffd80",
   "metadata": {
    "tags": []
   },
   "source": [
    "## Google Colab で実行\n",
    "\n",
    "以下のコードを実行すると、Google Colab で実行している場合には Googleドライブがマウントされ使用できるようになります。\n",
    "「このノートブックに Google ドライブのファイルへのアクセスを許可しますか?」というダイアログが表示されたら、 「Google ドライブに接続」をクリックして許可してください。"
   ]
  },
  {
   "cell_type": "markdown",
   "id": "8b2f9a4b-fa68-4ad8-aec8-f23e59ed55c7",
   "metadata": {},
   "source": [
    "## When running in Google Colab\n",
    "\n",
    "After running the following code, Google Drive will be mounted and available if you are running in Google Colab.\n",
    "When the dialog \"Do you want to allow this notebook to access files on Google Drive?\" appears, click \"Connect to Google Drive\" to allow it."
   ]
  },
  {
   "cell_type": "markdown",
   "id": "27caf355-1eb4-47bb-96e7-a266511c9972",
   "metadata": {
    "tags": []
   },
   "source": [
    "## 提出Excelファイル毎について算出される指標\n",
    "    \n",
    "- **ind1** : 提出されたファイル内のセルのうち、正解ファイル内のそれに対応するセルとは値が異なるセルの数 （正解ファイルのセルが空白の場合は除く）\n",
    "\n",
    "- **ind2** : 提出されたファイル内で、正解ファイルと同じ値を持つが、数字のみで構成されるセルの数\n",
    "（つまり、学習者は、セルで Excel の計算機能を使用せずに、手動で値を計算した可能性がある）\n",
    "\n",
    "- **ind3** : 正解ファイルでは空白だが、提出されたファイルでは空白ではないセルの数。"
   ]
  },
  {
   "cell_type": "markdown",
   "id": "f2d64897-167b-4753-b864-4344e7ccff3a",
   "metadata": {
    "tags": []
   },
   "source": [
    "## Indicators to be calculated for each submitted Excel file\n",
    "    \n",
    "- **ind1** : how many cells in the submitted file are different in value from the corresponding cells in the correct answer file\n",
    "   (excluding the case the cell in the correct answer file is blank)\n",
    "\n",
    "- **ind2** : how many cells in the submitted file have the same value as the correct answer file but consist only of numbers\n",
    "   (i.e., the learner possibly calculated the values manually, not using Excel's calculation feature at the cells)\n",
    "\n",
    "- **ind3** : how many cells were blank in the correct answer file and non-blank in the submitted file."
   ]
  },
  {
   "cell_type": "code",
   "execution_count": null,
   "id": "9c699648-17b4-4624-82b4-16a39b563c7a",
   "metadata": {
    "colab": {
     "base_uri": "https://localhost:8080/"
    },
    "id": "9c699648-17b4-4624-82b4-16a39b563c7a",
    "outputId": "aabb312a-14e2-4ff4-d4bb-1fdbae4269f9",
    "tags": []
   },
   "outputs": [],
   "source": [
    "import sys\n",
    "import os\n",
    "import re\n",
    "import glob\n",
    "import datetime\n",
    "import openpyxl\n",
    "from openpyxl.comments import Comment\n",
    "from openpyxl.styles import PatternFill, Border, Side, Alignment, Protection, Font\n",
    "\n",
    "moduleList = sys.modules\n",
    "ENV_COLAB = False\n",
    "if 'google.colab' in moduleList:\n",
    "    ENV_COLAB = True\n",
    "    # print(\"google_colab\")\n",
    "if ENV_COLAB:\n",
    "  from google.colab import drive\n",
    "  drive.mount('/content/drive')\n",
    "  gdpath = \"/content/drive/MyDrive/\"\n",
    "else:\n",
    "  gdpath = \"\"\n",
    "\n",
    "# make folders\n",
    "ansfile_folder = gdpath + \"ediff-ans-files\" # correct answer\n",
    "stfile_folder  = gdpath + \"ediff-st-files\"  # students' files\n",
    "out_folder     = gdpath + \"ediff-out-files\" # to save files \n",
    "os.makedirs(ansfile_folder, exist_ok=True)\n",
    "os.makedirs(stfile_folder, exist_ok=True)\n",
    "os.makedirs(out_folder, exist_ok=True)\n",
    "\n",
    "ansfiles = glob.glob(ansfile_folder + \"/**/*.xlsx\", recursive=True)\n",
    "for file0 in sorted(ansfiles):\n",
    "  ansfilename = file0\n",
    "print(\"answer file : \" + ansfilename)\n",
    "wb_ans      = openpyxl.load_workbook(ansfilename, data_only=True)\n",
    "\n",
    "fileno = 0\n",
    "xlist = []\n",
    "ylist = []\n",
    "textlist = []\n",
    "colorlist = []\n",
    "sizelist = []\n",
    "participant_num_list = []\n",
    "feedbacklist = []\n",
    "stfiles = glob.glob(stfile_folder + \"/**/*.xlsx\", recursive=True)\n",
    "for stfile in sorted(stfiles):\n",
    "  fileno += 1\n",
    "  # if(fileno > 8): ####\n",
    "    # break ####\n",
    "  matched = re.findall(r'[^0-9]([0-9]+)_assignsubmission_file', stfile)\n",
    "  if matched:\n",
    "    participant_num = matched[0]\n",
    "  else:\n",
    "    participant_num = ''\n",
    "  print(\"now: \" + stfile + \" (\" + participant_num + \")\")\n",
    "  wb_dataonly = openpyxl.load_workbook(stfile, data_only=True) # calc. value, not formula\n",
    "  wb_dataonly.close()\n",
    "  wb          = openpyxl.load_workbook(stfile)\n",
    "\n",
    "  rownum_sum = 0\n",
    "  for sheet in wb:\n",
    "    rownum_sum += sheet.max_row\n",
    "  print(f' rownum_sum:{rownum_sum}')\n",
    "  if (rownum_sum > 10000000):\n",
    "    nosave = True\n",
    "  else:\n",
    "    nosave = False\n",
    "    \n",
    "  ind1 = 0\n",
    "  ind2 = 0\n",
    "  ind3 = 0\n",
    "  # for all the sheets\n",
    "  for wsheet in wb:\n",
    "    if (wsheet.title != 'enshuu' and wsheet.title != 'ouyou') :\n",
    "      continue\n",
    "    wsheet_ans      = wb_ans[wsheet.title]\n",
    "    wsheet_dataonly = wb_dataonly[wsheet.title]\n",
    "    #print(f'******* sheet name: {wsheet.title}') #####\n",
    "\n",
    "    # all the cells in the worksheet (each row)\n",
    "    irow = 0\n",
    "    for row in wsheet.iter_rows():\n",
    "      irow += 1\n",
    "      if (irow > 100):\n",
    "        continue\n",
    "      icol = 0\n",
    "      for cell in row:\n",
    "        icol += 1\n",
    "        if (icol > 100):\n",
    "          continue\n",
    "        value =                   wsheet.cell(cell.row, cell.column).value\n",
    "        value_ans =           wsheet_ans.cell(cell.row, cell.column).value\n",
    "        value_dataonly = wsheet_dataonly.cell(cell.row, cell.column).value\n",
    "        if (str(value_dataonly) == str(value_ans)):\n",
    "          if (str(value) == str(value_ans)): ## error! ->  re.match(r\"^[+-]?[0-9]*[.]?[0-9]+$\", value)\n",
    "            ind2 += 1\n",
    "        else:\n",
    "        #if (str(cell.value) != str(value_ans)):\n",
    "          cell.comment = Comment(str(value_ans), \"excel-diff\") # comment, author\n",
    "          # print(\"[\" + str(cell.row) + \",\" + str(cell.column) + \"] \" + str(value_dataonly) + \"<\" + str(cell.value) + \">  ans:\" + str(value_ans))\n",
    "          if(str(value_ans) == \"None\"):\n",
    "            ind3 += 1\n",
    "          else:\n",
    "            ind1 += 1\n",
    "\n",
    "  param_str = \"ind1:\" + str(ind1) + \" ind2:\" + str(ind2) + \" ind3:\" + str(ind3)\n",
    "  print(stfile + \"  \" + param_str)\n",
    "  outfile = stfile\n",
    "  outfile = outfile.replace(stfile_folder, \"\").replace(\"/\",\"_\")\n",
    "  if(nosave):\n",
    "    print(\" \" + stfile + \" is too big to save.\")\n",
    "  else:\n",
    "    wb.save(out_folder + \"/{:06}\".format(ind1) + \"_\" + \"{:06}\".format(ind3) + \"_\" + outfile)\n",
    "  wb.close()\n",
    "  xlist.append(ind1)\n",
    "  ylist.append(ind2)\n",
    "  sizelist.append(15+ind3/20.0)\n",
    "  textlist.append(str(fileno) + '<br>' + param_str + '<br>' + stfile)\n",
    "  colorlist.append('rgb(' + str(110+ind1/4) + ', 54, 180)')\n",
    "  participant_num_list.append(participant_num)\n",
    "  feedbacklist.append(param_str)\n"
   ]
  },
  {
   "cell_type": "code",
   "execution_count": null,
   "id": "4bd63663-b9fd-4fd5-a5d3-31fa7cf9b66e",
   "metadata": {
    "tags": []
   },
   "outputs": [],
   "source": [
    "# Moodle grading worksheet line example: \n",
    "#\"Participant 5219407\",,\"2023/01/16 03:19:34\",\"ind1:0 ind2:123 ind3:20\"\n",
    "dtnow = datetime.datetime.now()\n",
    "out_str = 'Identifier,Grade,\"Last modified (grade)\",\"Feedback comments\"' + \"\\n\"\n",
    "for i in range(0,len(participant_num_list)):\n",
    "    out_str += '\"Participant ' + participant_num_list[i] \\\n",
    "               + '\",,' + dtnow.strftime('%Y/%m/%d %H:%M:%S') + ',\"' + feedbacklist[i] + '\"' + \"\\n\"\n",
    "with open(out_folder + \"/moodle_grading_worksheet.csv\", mode='w') as f:\n",
    "    f.write(out_str)"
   ]
  },
  {
   "cell_type": "markdown",
   "id": "fba8c6c2-d33d-4a64-988a-de6021de10f6",
   "metadata": {},
   "source": [
    "References:\n",
    "\n",
    "https://it-ojisan.tokyo/colab-sys-modules/\n",
    "\n",
    "https://tech-blog.rakus.co.jp/entry/20210729/openpyxl\n",
    "\n",
    "https://atmarkit.itmedia.co.jp/ait/articles/2202/08/news031.html\n",
    "\n",
    "https://plotly.com/python/\n",
    "\n",
    "\n",
    "巨大なファイルを読み込むときのオプション\n",
    "\n",
    "https://openpyxl.readthedocs.io/en/stable/optimized.html?highlight=load_workbook#read-only-mode\n"
   ]
  },
  {
   "cell_type": "code",
   "execution_count": null,
   "id": "25cac94d-5ac6-487d-9427-f252ba880661",
   "metadata": {
    "tags": []
   },
   "outputs": [],
   "source": [
    "# visualize\n",
    "import plotly.graph_objects as go\n",
    "fig = go.Figure(data=[go.Scatter(\n",
    "    x = xlist, y = ylist, text = textlist,\n",
    "    mode = 'markers',\n",
    "    marker = dict( color = colorlist, size = sizelist, )\n",
    ")])\n",
    "fig.show()"
   ]
  },
  {
   "cell_type": "code",
   "execution_count": null,
   "id": "6616951f-ada3-4b53-80ee-2d7ac6a7ab69",
   "metadata": {},
   "outputs": [],
   "source": []
  }
 ],
 "metadata": {
  "colab": {
   "collapsed_sections": [],
   "provenance": []
  },
  "kernelspec": {
   "display_name": "Python 3 (ipykernel)",
   "language": "python",
   "name": "python3"
  },
  "language_info": {
   "codemirror_mode": {
    "name": "ipython",
    "version": 3
   },
   "file_extension": ".py",
   "mimetype": "text/x-python",
   "name": "python",
   "nbconvert_exporter": "python",
   "pygments_lexer": "ipython3",
   "version": "3.9.13"
  }
 },
 "nbformat": 4,
 "nbformat_minor": 5
}
